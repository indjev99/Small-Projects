{
 "cells": [
  {
   "cell_type": "code",
   "execution_count": 517,
   "metadata": {},
   "outputs": [],
   "source": [
    "# Load data\n",
    "\n",
    "import _pickle as cp\n",
    "import numpy as np\n",
    "\n",
    "X, y = cp.load(open('winequality-white.pickle','rb'))\n",
    "\n",
    "N, D = X.shape\n",
    "N_train = int(0.8 * N)\n",
    "N_test = N - N_train\n",
    "\n",
    "X_train_raw = X[:N_train]\n",
    "y_train_raw = y[:N_train]\n",
    "X_test_raw = X[N_train:]\n",
    "y_test_raw = y[N_train:]"
   ]
  },
  {
   "cell_type": "code",
   "execution_count": 518,
   "metadata": {},
   "outputs": [
    {
     "data": {
      "image/png": "[encoded data removed]",
      "text/plain": [
       "<Figure size 432x288 with 1 Axes>"
      ]
     },
     "metadata": {
      "needs_background": "light"
     },
     "output_type": "display_data"
    }
   ],
   "source": [
    "# Plot distribution of ys\n",
    "\n",
    "import matplotlib.pyplot as plt\n",
    "\n",
    "unique, counts = np.unique(y_train, return_counts=True)\n",
    "\n",
    "plt.bar(unique, counts)\n",
    "plt.show()"
   ]
  },
  {
   "cell_type": "code",
   "execution_count": 519,
   "metadata": {},
   "outputs": [],
   "source": [
    "# Test a model:\n",
    "\n",
    "import numpy as np\n",
    "\n",
    "def mean_squared_error(predict, X, y):\n",
    "    y_hat = predict(X)\n",
    "    residuals = np.subtract(y, y_hat)\n",
    "    squared_residuals = np.square(residuals)\n",
    "    return np.mean(squared_residuals)"
   ]
  },
  {
   "cell_type": "code",
   "execution_count": 520,
   "metadata": {},
   "outputs": [],
   "source": [
    "# Trivial model\n",
    "\n",
    "import numpy as np\n",
    "\n",
    "def train_trivial(X, y):\n",
    "    global avg_y\n",
    "    avg_y = np.average(y)\n",
    "\n",
    "def predict_trivial(X):\n",
    "    return np.repeat(avg_y, len(X))"
   ]
  },
  {
   "cell_type": "code",
   "execution_count": 521,
   "metadata": {},
   "outputs": [
    {
     "name": "stdout",
     "output_type": "stream",
     "text": [
      "Mean squared error of trivial model:\n",
      "On train data 0.7767772386501117\n",
      "On test data 0.8138573000045535\n"
     ]
    }
   ],
   "source": [
    "# Test trivial model\n",
    "\n",
    "train_trivial(X_train, y_train)\n",
    "mse_train = mean_squared_error(predict_trivial, X_train, y_train)\n",
    "mse_test = mean_squared_error(predict_trivial, X_test, y_test)\n",
    "\n",
    "print('Mean squared error of trivial model:')\n",
    "print('On train data ' + str(mse_train))\n",
    "print('On test data ' + str(mse_test))"
   ]
  },
  {
   "cell_type": "code",
   "execution_count": 522,
   "metadata": {},
   "outputs": [],
   "source": [
    "# Normalize features\n",
    "\n",
    "import numpy as np\n",
    "\n",
    "X_means = np.mean(X_train_raw, axis=0)\n",
    "X_stds = np.std(X_train_raw, axis=0)\n",
    "\n",
    "X_train = np.subtract(X_train_raw, X_means)\n",
    "X_train = np.divide(X_train, X_stds)\n",
    "\n",
    "X_test = np.subtract(X_test_raw, X_means)\n",
    "X_test = np.divide(X_test, X_stds)"
   ]
  },
  {
   "cell_type": "code",
   "execution_count": 523,
   "metadata": {},
   "outputs": [],
   "source": [
    "# Linear regression\n",
    "\n",
    "import numpy as np\n",
    "from numpy.linalg import inv\n",
    "\n",
    "def transform_const(X):\n",
    "    return np.insert(X, 0, 1, axis=1)\n",
    "\n",
    "def train_lin_reg(X, y):\n",
    "    global weights\n",
    "    X2 = transform_const(X)\n",
    "    weights = inv(X2.transpose().dot(X2)).dot(X2.transpose()).dot(y)\n",
    "\n",
    "def predict_lin_reg(X):\n",
    "    return transform_const(X).dot(weights)"
   ]
  },
  {
   "cell_type": "code",
   "execution_count": 524,
   "metadata": {},
   "outputs": [
    {
     "name": "stdout",
     "output_type": "stream",
     "text": [
      "Mean squared error of linear regression:\n",
      "On train data 0.5639996173941924\n",
      "On test data 0.5607292042283468\n"
     ]
    }
   ],
   "source": [
    "# Test linear regression\n",
    "\n",
    "train_lin_reg(X_train, y_train)\n",
    "mse_train = mean_squared_error(predict_lin_reg, X_train, y_train)\n",
    "mse_test = mean_squared_error(predict_lin_reg, X_test, y_test)\n",
    "\n",
    "print('Mean squared error of linear regression:')\n",
    "print('On train data ' + str(mse_train))\n",
    "print('On test data ' + str(mse_test))"
   ]
  },
  {
   "cell_type": "code",
   "execution_count": 525,
   "metadata": {},
   "outputs": [
    {
     "data": {
      "image/png": "[encoded data removed]",
      "text/plain": [
       "<Figure size 432x288 with 1 Axes>"
      ]
     },
     "metadata": {
      "needs_background": "light"
     },
     "output_type": "display_data"
    }
   ],
   "source": [
    "# Plot learning rate of linear regression\n",
    "\n",
    "import numpy as np\n",
    "import matplotlib.pyplot as plt\n",
    "\n",
    "mse_train_arr = np.zeros(0)\n",
    "mse_test_arr = np.zeros(0)\n",
    "n_arr = np.zeros(0)\n",
    "\n",
    "for i in range(20, 601, 20):\n",
    "    X_curr = X_train[:i]\n",
    "    y_curr = y_train[:i]\n",
    "    \n",
    "    train_lin_reg(X_curr, y_curr)\n",
    "    mse_train = mean_squared_error(predict_lin_reg, X_curr, y_curr)\n",
    "    mse_test = mean_squared_error(predict_lin_reg, X_test, y_test)\n",
    "    \n",
    "    n_arr = np.append(n_arr, i)\n",
    "    mse_train_arr = np.append(mse_train_arr, mse_train)\n",
    "    mse_test_arr = np.append(mse_test_arr, mse_test)\n",
    "\n",
    "plt.plot(n_arr, mse_train_arr)\n",
    "plt.plot(n_arr, mse_test_arr)\n",
    "plt.show()"
   ]
  },
  {
   "cell_type": "code",
   "execution_count": 526,
   "metadata": {},
   "outputs": [],
   "source": [
    "# Polynomial basis expansion\n",
    "\n",
    "import numpy as np\n",
    "from sklearn.preprocessing import PolynomialFeatures\n",
    "\n",
    "def transform_poly(X):\n",
    "    poly = PolynomialFeatures(2)\n",
    "    return poly.fit_transform(X)"
   ]
  },
  {
   "cell_type": "code",
   "execution_count": 527,
   "metadata": {},
   "outputs": [],
   "source": [
    "# Linear regression with polynomial\n",
    "\n",
    "import numpy as np\n",
    "from numpy.linalg import inv\n",
    "\n",
    "def train_lin_reg_poly(X, y):\n",
    "    global weights\n",
    "    X2 = transform_poly(X)\n",
    "    weights = inv(X2.transpose().dot(X2)).dot(X2.transpose()).dot(y)\n",
    "\n",
    "def predict_lin_reg_poly(X):\n",
    "    return transform_poly(X).dot(weights)"
   ]
  },
  {
   "cell_type": "code",
   "execution_count": 528,
   "metadata": {},
   "outputs": [],
   "source": [
    "# Ridge linear regression\n",
    "\n",
    "import numpy as np\n",
    "from sklearn.linear_model import Ridge\n",
    "\n",
    "def train_ridge(X, y, alpha):\n",
    "    global clf_ridge\n",
    "    clf_ridge = Ridge(alpha)\n",
    "    clf_ridge.fit(transform_poly(X), y)\n",
    "\n",
    "def predict_ridge(X):\n",
    "    res = clf_ridge.predict(transform_poly(X))\n",
    "    return clf_ridge.predict(transform_poly(X))"
   ]
  },
  {
   "cell_type": "code",
   "execution_count": 529,
   "metadata": {},
   "outputs": [],
   "source": [
    "# Lasso linear regression\n",
    "\n",
    "import numpy as np\n",
    "from sklearn.linear_model import Lasso\n",
    "\n",
    "def train_lasso(X, y, alpha):\n",
    "    global clf_lasso\n",
    "    clf_lasso = Lasso(alpha)\n",
    "    clf_lasso.fit(transform_poly(X), y)\n",
    "\n",
    "def predict_lasso(X):\n",
    "    return clf_lasso.predict(transform_poly(X))"
   ]
  },
  {
   "cell_type": "code",
   "execution_count": 530,
   "metadata": {},
   "outputs": [],
   "source": [
    "# Fit alpha hyperparameter for a model\n",
    "\n",
    "import numpy as np\n",
    "\n",
    "N_vtrain = int(0.8 * N_train)\n",
    "X_vtrain = X_train[:N_vtrain]\n",
    "y_vtrain = y_train[:N_vtrain]\n",
    "X_valid = X_train[N_vtrain:]\n",
    "y_valid = y_train[N_vtrain:]\n",
    "    \n",
    "def find_alpha(train, predict):\n",
    "    def check_alpha(alpha):\n",
    "        train(X_vtrain, y_vtrain, alpha)\n",
    "        mse = mean_squared_error(predict, X_valid, y_valid)\n",
    "        return mse\n",
    "    \n",
    "    alphas = [0.01, 0.1, 1, 10, 100]\n",
    "    res = map(check_alpha, alphas)\n",
    "    return alphas[np.argmin(list(res))]"
   ]
  },
  {
   "cell_type": "code",
   "execution_count": 531,
   "metadata": {},
   "outputs": [
    {
     "name": "stdout",
     "output_type": "stream",
     "text": [
      "Ridge alpha: 10\n",
      "Lasso alpha: 0.01\n"
     ]
    }
   ],
   "source": [
    "# Find optimal alpha hyperparameters for the two models\n",
    "\n",
    "ridge_alpha = find_alpha(train_ridge, predict_ridge)\n",
    "lasso_alpha = find_alpha(train_lasso, predict_lasso)\n",
    "\n",
    "print('Ridge alpha: ' + str(ridge_alpha))\n",
    "print('Lasso alpha: ' + str(lasso_alpha))"
   ]
  },
  {
   "cell_type": "code",
   "execution_count": 532,
   "metadata": {},
   "outputs": [
    {
     "name": "stdout",
     "output_type": "stream",
     "text": [
      "Mean squared error of ridge:\n",
      "On train data 0.49546310413856376\n",
      "On test data 0.5116677456584307\n"
     ]
    }
   ],
   "source": [
    "# Test ridge linear regression\n",
    "\n",
    "train_ridge(X_train, y_train, ridge_alpha)\n",
    "mse_train = mean_squared_error(predict_ridge, X_train, y_train)\n",
    "mse_test = mean_squared_error(predict_ridge, X_test, y_test)\n",
    "\n",
    "print('Mean squared error of ridge:')\n",
    "print('On train data ' + str(mse_train))\n",
    "print('On test data ' + str(mse_test))"
   ]
  },
  {
   "cell_type": "code",
   "execution_count": 533,
   "metadata": {},
   "outputs": [
    {
     "name": "stdout",
     "output_type": "stream",
     "text": [
      "Mean squared error of lasso:\n",
      "On train data 0.5138328252782884\n",
      "On test data 0.5185523039167391\n"
     ]
    }
   ],
   "source": [
    "# Test lasso linear regression\n",
    "\n",
    "train_lasso(X_train, y_train, lasso_alpha)\n",
    "mse_train = mean_squared_error(predict_lasso, X_train, y_train)\n",
    "mse_test = mean_squared_error(predict_lasso, X_test, y_test)\n",
    "\n",
    "print('Mean squared error of lasso:')\n",
    "print('On train data ' + str(mse_train))\n",
    "print('On test data ' + str(mse_test))"
   ]
  },
  {
   "cell_type": "code",
   "execution_count": 535,
   "metadata": {},
   "outputs": [
    {
     "name": "stdout",
     "output_type": "stream",
     "text": [
      "Mean squared error of linear regression with polynomial expansion:\n",
      "On train data 0.4952209887778066\n",
      "On test data 0.5185523039167391\n"
     ]
    }
   ],
   "source": [
    "# Test linear regression with polynomial\n",
    "\n",
    "train_lin_reg_poly(X_train, y_train)\n",
    "mse_train = mean_squared_error(predict_lin_reg_poly, X_train, y_train)\n",
    "mse_test = mean_squared_error(predict_lasso, X_test, y_test)\n",
    "\n",
    "print('Mean squared error of linear regression with polynomial expansion:')\n",
    "print('On train data ' + str(mse_train))\n",
    "print('On test data ' + str(mse_test))"
   ]
  },
  {
   "cell_type": "code",
   "execution_count": null,
   "metadata": {},
   "outputs": [],
   "source": []
  }
 ],
 "metadata": {
  "kernelspec": {
   "display_name": "Python 3",
   "language": "python",
   "name": "python3"
  },
  "language_info": {
   "codemirror_mode": {
    "name": "ipython",
    "version": 3
   },
   "file_extension": ".py",
   "mimetype": "text/x-python",
   "name": "python",
   "nbconvert_exporter": "python",
   "pygments_lexer": "ipython3",
   "version": "3.7.4"
  }
 },
 "nbformat": 4,
 "nbformat_minor": 2
}
